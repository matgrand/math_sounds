{
 "cells": [
  {
   "cell_type": "markdown",
   "metadata": {},
   "source": [
    "## Exploring Mathematical properties of Music and Musical properties of Math"
   ]
  },
  {
   "cell_type": "code",
   "execution_count": 4,
   "metadata": {},
   "outputs": [],
   "source": [
    "import numpy as np\n",
    "from IPython.display import Audio"
   ]
  },
  {
   "cell_type": "code",
   "execution_count": 6,
   "metadata": {},
   "outputs": [],
   "source": [
    "#step 0 create an array of numbers an play it as a wave file\n",
    "SAMPLE_RATE = 22050\n",
    "\n",
    "t = np.linspace(0, 1, SAMPLE_RATE) # 1 second of samples\n",
    "f = 220 #220 Hz\n",
    "#step 1 create a sine \n",
    "x = np.sin(2 * np.pi * f * t)\n",
    "#play the wave file\n",
    "Audio(x, rate=SAMPLE_RATE)\n",
    "\n",
    "\n",
    "#step 2 create a square wave\n",
    "x = np.sign(x)\n",
    "#step 3 create a sawtooth wave\n",
    "x = np.sign(x) - 1\n",
    "#step 4 create a triangle wave\n",
    "x = np.abs(x) - 1\n",
    "#step 5 create a noise\n",
    "x = np.random.uniform(-1, 1, size=len(t))\n",
    "#step 6 create a pulse train\n",
    "x = np.sign(np.sin(2 * np.pi * f * t))\n"
   ]
  }
 ],
 "metadata": {
  "kernelspec": {
   "display_name": "Python 3.10.8 64-bit (microsoft store)",
   "language": "python",
   "name": "python3"
  },
  "language_info": {
   "codemirror_mode": {
    "name": "ipython",
    "version": 3
   },
   "file_extension": ".py",
   "mimetype": "text/x-python",
   "name": "python",
   "nbconvert_exporter": "python",
   "pygments_lexer": "ipython3",
   "version": "3.10.9"
  },
  "orig_nbformat": 4,
  "vscode": {
   "interpreter": {
    "hash": "23f823caeccb1684f6bd50492b68bb5eab208de0408f39b2457c6a38c0e8e818"
   }
  }
 },
 "nbformat": 4,
 "nbformat_minor": 2
}
