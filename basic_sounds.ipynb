{
 "cells": [
  {
   "cell_type": "markdown",
   "metadata": {},
   "source": [
    "## Exploring Mathematical properties of Music and Musical properties of Math"
   ]
  },
  {
   "cell_type": "code",
   "execution_count": null,
   "metadata": {},
   "outputs": [],
   "source": [
    "import numpy as np\n",
    "from IPython.display import Audio\n",
    "from IPython.display import display\n",
    "import matplotlib.pyplot as plt\n",
    "from time import sleep"
   ]
  },
  {
   "cell_type": "code",
   "execution_count": null,
   "metadata": {},
   "outputs": [],
   "source": [
    "SAMPLE_RATE = 22050"
   ]
  },
  {
   "cell_type": "code",
   "execution_count": null,
   "metadata": {},
   "outputs": [],
   "source": [
    "#helper functions\n",
    "MP = 1000 #MAX PLOT\n",
    "def plot_wave(x,t):\n",
    "    fig = plt.figure(figsize=(5, 0.5))\n",
    "    plt.plot(t[:MP], x[:MP])   \n",
    "    # plt.ylim(-1.1,1.1)\n",
    "    plt.grid()\n",
    "    plt.tight_layout()\n",
    "    plt.show()\n",
    "\n",
    "def play(x, normalize=True):\n",
    "    display(Audio(x, rate=SAMPLE_RATE, autoplay=True, normalize=normalize))\n",
    "    sleep(1.02)"
   ]
  },
  {
   "cell_type": "code",
   "execution_count": null,
   "metadata": {},
   "outputs": [],
   "source": [
    "#simple sine wave\n",
    "t = np.linspace(0, 1, SAMPLE_RATE)\n",
    "f = 220 \n",
    "x = np.sin(2 * np.pi * f * t)\n",
    "\n",
    "play(x)"
   ]
  },
  {
   "cell_type": "code",
   "execution_count": null,
   "metadata": {},
   "outputs": [],
   "source": [
    "#other waveforms\n",
    "#sine wave\n",
    "sine_w = np.sin(2 * np.pi * f * t)\n",
    "plot_wave(sine_w, t)\n",
    "play(sine_w)"
   ]
  },
  {
   "cell_type": "code",
   "execution_count": null,
   "metadata": {},
   "outputs": [],
   "source": [
    "#square wave\n",
    "square_w = np.sign(np.sin(2 * np.pi * f * t))\n",
    "plot_wave(square_w, t)\n",
    "play(square_w)"
   ]
  },
  {
   "cell_type": "code",
   "execution_count": null,
   "metadata": {},
   "outputs": [],
   "source": [
    "#triangle wave\n",
    "triangle_w = 2 * np.abs(np.mod(t * f, 2) - 1) - 1\n",
    "plot_wave(triangle_w, t)\n",
    "play(triangle_w)"
   ]
  },
  {
   "cell_type": "code",
   "execution_count": null,
   "metadata": {},
   "outputs": [],
   "source": [
    "#adding different waves\n",
    "add_w = sine_w + triangle_w\n",
    "plot_wave(add_w, t)\n",
    "play(add_w)"
   ]
  },
  {
   "cell_type": "code",
   "execution_count": null,
   "metadata": {},
   "outputs": [],
   "source": [
    "#testing volume, \n",
    "mult = 1.0\n",
    "sine_w_mult = sine_w * mult\n",
    "plot_wave(sine_w_mult, t)\n",
    "play(sine_w_mult, normalize=False)"
   ]
  },
  {
   "cell_type": "code",
   "execution_count": null,
   "metadata": {},
   "outputs": [],
   "source": [
    "#basic harmonics 2 frequencies\n",
    "ratios = [1, 3/2, 4/3, 5/4, 6/5]\n",
    "f = 600 \n",
    "\n",
    "for r in ratios:\n",
    "    print(f'f0 = {f:.2f}Hz, f1 = {f*r:.2f}Hz, ratio = {r:.2f}')\n",
    "    f0 = f * 1\n",
    "    f1 = f * r\n",
    "    # s0 = np.sin(2 * np.pi * f0 * t) #sine wave\n",
    "    s0 = 2 * np.abs(np.mod(t * f0, 2) - 1) - 1 #triangle wave\n",
    "    # s1 = np.sin(2 * np.pi * f1 * t)\n",
    "    s1 = 2 * np.abs(np.mod(t * f1, 2) - 1) - 1\n",
    "\n",
    "\n",
    "    harmonics = s0 + s1\n",
    "    plot_wave(harmonics, t)\n",
    "    play(harmonics)\n",
    "    "
   ]
  },
  {
   "cell_type": "code",
   "execution_count": null,
   "metadata": {},
   "outputs": [],
   "source": [
    "#basic harmonics: exploring the divisor steps\n",
    "f = 220\n",
    "\n",
    "def sequence_of_2_freqs_chords(f, ratios):\n",
    "    for r in ratios:\n",
    "        print(f'f0 = {f:.2f}Hz, f1 = {f*r:.2f}Hz, ratio = {r:.2f}')\n",
    "        f0 = f * 1\n",
    "        f1 = f * (1+r)\n",
    "        s0 = np.sin(2 * np.pi * f0 * t) #sine wave\n",
    "        # s0 = 2 * np.abs(np.mod(t * f0, 2) - 1) - 1 #triangle wave\n",
    "        s1 = np.sin(2 * np.pi * f1 * t)\n",
    "        # s1 = 2 * np.abs(np.mod(t * f1, 2) - 1) - 1\n",
    "\n",
    "\n",
    "        harmonics = s0 + s1\n",
    "        plot_wave(harmonics, t)\n",
    "        play(harmonics)\n"
   ]
  },
  {
   "cell_type": "code",
   "execution_count": null,
   "metadata": {},
   "outputs": [],
   "source": [
    "# /2 \n",
    "N = 4\n",
    "ratios = np.arange(0, N, 1)/2\n",
    "sequence_of_2_freqs_chords(f, ratios)"
   ]
  },
  {
   "cell_type": "code",
   "execution_count": null,
   "metadata": {},
   "outputs": [],
   "source": [
    "# /3\n",
    "N = 6\n",
    "ratios = np.arange(0, N, 1)/3\n",
    "sequence_of_2_freqs_chords(f, ratios)"
   ]
  },
  {
   "cell_type": "code",
   "execution_count": null,
   "metadata": {},
   "outputs": [],
   "source": [
    "# /4\n",
    "N = 8\n",
    "ratios = np.arange(0, N, 1)/4\n",
    "sequence_of_2_freqs_chords(f, ratios)"
   ]
  },
  {
   "cell_type": "code",
   "execution_count": null,
   "metadata": {},
   "outputs": [],
   "source": [
    "# /5\n",
    "N = 10\n",
    "ratios = np.arange(0, N, 1)/5\n",
    "sequence_of_2_freqs_chords(f, ratios)"
   ]
  }
 ],
 "metadata": {
  "kernelspec": {
   "display_name": "Python 3.8.10 64-bit",
   "language": "python",
   "name": "python3"
  },
  "language_info": {
   "codemirror_mode": {
    "name": "ipython",
    "version": 3
   },
   "file_extension": ".py",
   "mimetype": "text/x-python",
   "name": "python",
   "nbconvert_exporter": "python",
   "pygments_lexer": "ipython3",
   "version": "3.8.10"
  },
  "orig_nbformat": 4,
  "vscode": {
   "interpreter": {
    "hash": "916dbcbb3f70747c44a77c7bcd40155683ae19c65e1c03b4aa3499c5328201f1"
   }
  }
 },
 "nbformat": 4,
 "nbformat_minor": 2
}
