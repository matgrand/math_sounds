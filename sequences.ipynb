{
 "cells": [
  {
   "cell_type": "code",
   "execution_count": null,
   "metadata": {},
   "outputs": [],
   "source": [
    "import numpy as np\n",
    "from IPython.display import Audio\n",
    "from IPython.display import display\n",
    "import matplotlib.pyplot as plt\n",
    "from time import sleep"
   ]
  },
  {
   "cell_type": "code",
   "execution_count": null,
   "metadata": {},
   "outputs": [],
   "source": [
    "# notes on a standard-piano 3-octave range\n",
    "C3 = 130.81 #starting note\n",
    "N = 36 # number of notes\n",
    "freqs = [C3 * 2**(i/12) for i in range(N)]\n",
    "\n",
    "# generate a sequence of notes\n",
    "T = .3 # duration of each note\n",
    "fs = 22050 # sampling rate\n",
    "\n",
    "TP = 0.05 # duration of the pause between notes\n",
    "\n",
    "x = np.zeros(int(T*fs))\n",
    "\n",
    "for i in range(N):\n",
    "    t = np.linspace(0, T, int(T*fs))\n",
    "    s = np.sin(2*np.pi*freqs[i]*t)\n",
    "    p = np.zeros(int(TP*fs))\n",
    "\n",
    "\n",
    "    # #concatenate the sounds in a smart wave to avoid clicks\n",
    "    # #find value and derivative of the last sample of the previous sound\n",
    "    # last_sample = x[-1]\n",
    "    # last_derivative = x[-1] - x[-2]\n",
    "\n",
    "    # #find the sample in x with the closest value\n",
    "    # closest_sample = np.argmin(np.abs(s - last_sample))\n",
    "\n",
    "    # #roll the sound to align the closest sample with the last sample of the previous sound\n",
    "    # s = np.roll(s, -closest_sample)\n",
    "\n",
    "    #concatenate the sounds\n",
    "    x = np.concatenate((x, s, p))\n",
    "\n",
    "\n",
    "# play the sequence\n",
    "display(Audio(x, rate=fs, autoplay=True))\n"
   ]
  }
 ],
 "metadata": {
  "kernelspec": {
   "display_name": "Python 3.8.10 64-bit",
   "language": "python",
   "name": "python3"
  },
  "language_info": {
   "codemirror_mode": {
    "name": "ipython",
    "version": 3
   },
   "file_extension": ".py",
   "mimetype": "text/x-python",
   "name": "python",
   "nbconvert_exporter": "python",
   "pygments_lexer": "ipython3",
   "version": "3.8.10"
  },
  "orig_nbformat": 4,
  "vscode": {
   "interpreter": {
    "hash": "916dbcbb3f70747c44a77c7bcd40155683ae19c65e1c03b4aa3499c5328201f1"
   }
  }
 },
 "nbformat": 4,
 "nbformat_minor": 2
}
